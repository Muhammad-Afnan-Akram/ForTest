{
 "cells": [
  {
   "cell_type": "markdown",
   "id": "5c3603b8",
   "metadata": {},
   "source": [
    "House Price Prediction:  We manaly focus onIslamabad\n",
    "\n",
    "* TensorFlow.\n",
    "* NumPy.\n",
    "* SciPy.\n",
    "* Pandas.\n",
    "* Matplotlib.\n",
    "* Keras.\n",
    "* SciKit-Learn.\n",
    "* PyTorch."
   ]
  },
  {
   "cell_type": "markdown",
   "id": "415f5e41",
   "metadata": {},
   "source": [
    "\n"
   ]
  },
  {
   "cell_type": "markdown",
   "id": "1937ae1c",
   "metadata": {},
   "source": [
    "Data Science Tools\n",
    "* Python\n",
    "* R\n",
    "* Tableau\n",
    "* Excel\n",
    "* Apache Spark\n",
    "* SQL\n",
    "* Jupyter Notebook\n",
    "* Hadoop\n",
    "* SAS\n",
    "* MATLAB"
   ]
  },
  {
   "cell_type": "markdown",
   "id": "124a2c33",
   "metadata": {},
   "source": [
    "introductory sentence about arithmetic expression examples\n",
    "\n",
    "Arithmetic expressions are commonly used in mathematical calculations and programming languages, and they involve a combination of mathematical operators and operands to perform operations such as addition, subtraction, multiplication, and division."
   ]
  },
  {
   "cell_type": "code",
   "execution_count": 2,
   "id": "b48b8043",
   "metadata": {},
   "outputs": [
    {
     "name": "stdout",
     "output_type": "stream",
     "text": [
      "6\n",
      "8\n"
     ]
    }
   ],
   "source": [
    "#multiply and add numbers\n",
    "a=2\n",
    "b=4\n",
    "print(a+b)\n",
    "print(a*b)"
   ]
  },
  {
   "cell_type": "code",
   "execution_count": 3,
   "id": "af33e95b",
   "metadata": {},
   "outputs": [
    {
     "name": "stdout",
     "output_type": "stream",
     "text": [
      "Enter the number of minutes: 2300\n",
      "2300 minutes is equal to 38 hours and 20 minutes.\n"
     ]
    }
   ],
   "source": [
    "# ask the user for input\n",
    "minutes = int(input(\"Enter the number of minutes: \"))\n",
    "\n",
    "# calculate the hours and minutes\n",
    "hours = minutes // 60\n",
    "remaining_minutes = minutes % 60\n",
    "\n",
    "# display the result\n",
    "print(f\"{minutes} minutes is equal to {hours} hours and {remaining_minutes} minutes.\")\n"
   ]
  },
  {
   "cell_type": "code",
   "execution_count": 4,
   "id": "d4c88083",
   "metadata": {},
   "outputs": [
    {
     "name": "stdout",
     "output_type": "stream",
     "text": [
      "Initialized empty Git repository in C:/Users/afnan/.git/\n"
     ]
    }
   ],
   "source": [
    "!git init\n"
   ]
  },
  {
   "cell_type": "code",
   "execution_count": 5,
   "id": "926cd172",
   "metadata": {},
   "outputs": [
    {
     "name": "stdout",
     "output_type": "stream",
     "text": [
      "^C\n"
     ]
    }
   ],
   "source": [
    "!git add ."
   ]
  },
  {
   "cell_type": "code",
   "execution_count": 9,
   "id": "5fd144d7",
   "metadata": {},
   "outputs": [
    {
     "name": "stderr",
     "output_type": "stream",
     "text": [
      "fatal: Unable to create 'C:/Users/afnan/.git/index.lock': File exists.\n",
      "\n",
      "Another git process seems to be running in this repository, e.g.\n",
      "an editor opened by 'git commit'. Please make sure all processes\n",
      "are terminated then try again. If it still fails, a git process\n",
      "may have crashed in this repository earlier:\n",
      "remove the file manually to continue.\n",
      "error: remote origin already exists.\n",
      "error: src refspec main does not match any\n",
      "error: failed to push some refs to 'https://github.com/Muhammad-Afnan-Akram/ForTest.git'\n"
     ]
    }
   ],
   "source": [
    "\n",
    "\n",
    "!git commit -m \"first commit\"\n",
    "!git branch -M main\n",
    "!git remote add origin https://github.com/Muhammad-Afnan-Akram/ForTest.git\n",
    "!git push -u origin main"
   ]
  },
  {
   "cell_type": "code",
   "execution_count": 10,
   "id": "8d2c12a9",
   "metadata": {},
   "outputs": [
    {
     "name": "stderr",
     "output_type": "stream",
     "text": [
      "error: remote origin already exists.\n",
      "error: src refspec main does not match any\n",
      "error: failed to push some refs to 'https://github.com/Muhammad-Afnan-Akram/ForTest.git'\n"
     ]
    }
   ],
   "source": [
    "!git remote add origin https://github.com/Muhammad-Afnan-Akram/ForTest.git\n",
    "!git branch -M main\n",
    "!git push -u origin main"
   ]
  },
  {
   "cell_type": "code",
   "execution_count": 11,
   "id": "1421bd0b",
   "metadata": {},
   "outputs": [
    {
     "name": "stderr",
     "output_type": "stream",
     "text": [
      "'rm' is not recognized as an internal or external command,\n",
      "operable program or batch file.\n"
     ]
    }
   ],
   "source": [
    "!rm -f .git/index.lock\n"
   ]
  },
  {
   "cell_type": "code",
   "execution_count": null,
   "id": "d8fbd8bf",
   "metadata": {},
   "outputs": [],
   "source": []
  }
 ],
 "metadata": {
  "kernelspec": {
   "display_name": "Python 3 (ipykernel)",
   "language": "python",
   "name": "python3"
  },
  "language_info": {
   "codemirror_mode": {
    "name": "ipython",
    "version": 3
   },
   "file_extension": ".py",
   "mimetype": "text/x-python",
   "name": "python",
   "nbconvert_exporter": "python",
   "pygments_lexer": "ipython3",
   "version": "3.10.9"
  }
 },
 "nbformat": 4,
 "nbformat_minor": 5
}
